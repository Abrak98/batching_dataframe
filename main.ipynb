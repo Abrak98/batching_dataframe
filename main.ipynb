{
 "cells": [
  {
   "cell_type": "code",
   "id": "initial_id",
   "metadata": {
    "collapsed": true
   },
   "source": [
    "import pandas as pd\n",
    "from random import randint\n",
    "\n",
    "from batching_module import get_batch_generator_from_df"
   ],
   "outputs": [],
   "execution_count": null
  },
  {
   "metadata": {},
   "cell_type": "code",
   "source": [
    "pd.set_option('display.max_rows', 500)\n",
    "pd.set_option('display.max_columns', 500)\n",
    "pd.set_option('display.width', 1000)"
   ],
   "id": "28176f8cbdc51e21",
   "outputs": [],
   "execution_count": null
  },
  {
   "metadata": {},
   "cell_type": "markdown",
   "source": "# Исходные данные",
   "id": "ef22fc192886cd08"
  },
  {
   "metadata": {},
   "cell_type": "code",
   "source": [
    "dfs_1 = pd.date_range(\"2023-01-01 00:00:01\", \"2023-01-01 00:00:15\", freq=\"s\")\n",
    "dfs_2 = pd.date_range(\"2023-01-01 00:00:10\", \"2023-01-01 00:00:25\", freq=\"s\")\n",
    "dfs_3 = pd.date_range(\"2023-01-01 00:00:15\", \"2023-01-01 00:00:30\", freq=\"s\")\n",
    "data = pd.concat(\n",
    "    [\n",
    "        pd.DataFrame({\"dt\": dfs_1.repeat(1)}),\n",
    "        pd.DataFrame({\"dt\": dfs_2.repeat(1)}),\n",
    "        pd.DataFrame({\"dt\": dfs_3.repeat(3)}),\n",
    "    ]\n",
    ")\n",
    "data[\"value\"] = [randint(0, 100) for _ in range(data.shape[0])]"
   ],
   "id": "94e36d10f796230a",
   "outputs": [],
   "execution_count": null
  },
  {
   "metadata": {},
   "cell_type": "markdown",
   "source": "# Вывод батчей",
   "id": "a4a2301bcc90513"
  },
  {
   "metadata": {},
   "cell_type": "code",
   "source": [
    "batch_size = 5\n",
    "df = data.copy()\n",
    "\n",
    "df_generator = get_batch_generator_from_df(\n",
    "    df, batch_size=batch_size, batch_column=\"dt\"\n",
    ")\n",
    "result_batches = list(df_generator)\n",
    "\n",
    "batches_len = []\n",
    "\n",
    "for batch_df in result_batches:\n",
    "    print(batch_df)"
   ],
   "id": "6e59bb12a970e9e5",
   "outputs": [],
   "execution_count": null
  },
  {
   "metadata": {},
   "cell_type": "markdown",
   "source": "# Сравнение по скорости",
   "id": "fee74154cb7ffacb"
  },
  {
   "metadata": {},
   "cell_type": "code",
   "source": [
    "dfs_1 = pd.date_range(\"2023-01-01 00:00:00\", \"2023-01-02 00:00:00\", freq=\"s\")\n",
    "dfs_2 = pd.date_range(\"2023-01-01 12:00:00\", \"2023-01-02 12:00:00\", freq=\"s\")\n",
    "dfs_3 = pd.date_range(\"2023-01-02 00:00:00\", \"2023-01-03 00:00:30\", freq=\"s\")\n",
    "data = pd.concat(\n",
    "    [\n",
    "        pd.DataFrame({\"dt\": dfs_1.repeat(1)}),\n",
    "        pd.DataFrame({\"dt\": dfs_2.repeat(2)}),\n",
    "        pd.DataFrame({\"dt\": dfs_3.repeat(5)}),\n",
    "    ]\n",
    ")\n",
    "data[\"value\"] = [randint(0, 100) for _ in range(data.shape[0])]\n",
    "len(data)"
   ],
   "id": "65f3f6b2a85efebc",
   "outputs": [],
   "execution_count": null
  },
  {
   "metadata": {},
   "cell_type": "code",
   "source": "batch_size=11",
   "id": "1ba0254c7c270ebe",
   "outputs": [],
   "execution_count": null
  },
  {
   "metadata": {},
   "cell_type": "code",
   "source": [
    "# %%timeit\n",
    "# df_generator = get_batch_generator_from_df(data.copy(), batch_size=batch_size, batch_column='dt')\n",
    "# sum_val = 0\n",
    "# \n",
    "# for batch_df in df_generator:\n",
    "#     sum_val += batch_df['value'].sum()"
   ],
   "id": "54cc3d97cb113aac",
   "outputs": [],
   "execution_count": null
  }
 ],
 "metadata": {
  "kernelspec": {
   "display_name": "Python 3",
   "language": "python",
   "name": "python3"
  },
  "language_info": {
   "codemirror_mode": {
    "name": "ipython",
    "version": 2
   },
   "file_extension": ".py",
   "mimetype": "text/x-python",
   "name": "python",
   "nbconvert_exporter": "python",
   "pygments_lexer": "ipython2",
   "version": "2.7.6"
  }
 },
 "nbformat": 4,
 "nbformat_minor": 5
}
